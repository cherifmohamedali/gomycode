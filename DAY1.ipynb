{
 "cells": [
  {
   "cell_type": "code",
   "execution_count": 1,
   "id": "76b2327a-3552-4f44-bc47-9d251d9bf43a",
   "metadata": {},
   "outputs": [
    {
     "name": "stdout",
     "output_type": "stream",
     "text": [
      "hello\n"
     ]
    }
   ],
   "source": [
    "print('hello')"
   ]
  },
  {
   "cell_type": "code",
   "execution_count": 2,
   "id": "16f93bc2-34d5-4707-b106-c0be7821703c",
   "metadata": {},
   "outputs": [],
   "source": [
    "a = 1 + 2 + 3 + \\\n",
    "    4 + 5 + 6 + \\\n",
    "    7 + 8 + 9"
   ]
  },
  {
   "cell_type": "code",
   "execution_count": 3,
   "id": "0b0965c8-de42-49d9-8497-14b0e3e2bc93",
   "metadata": {},
   "outputs": [
    {
     "data": {
      "text/plain": [
       "45"
      ]
     },
     "execution_count": 3,
     "metadata": {},
     "output_type": "execute_result"
    }
   ],
   "source": [
    "a"
   ]
  },
  {
   "cell_type": "code",
   "execution_count": 4,
   "id": "6c66ca08-cba0-4df1-8025-8a698cf38f4b",
   "metadata": {},
   "outputs": [],
   "source": [
    "a = (1 + 2 + 3 +\n",
    "    4 + 5 + 6 +\n",
    "    7 + 8 + 9)"
   ]
  },
  {
   "cell_type": "code",
   "execution_count": 5,
   "id": "25c01fe0-5131-4acb-9d9e-8c33a2d4087c",
   "metadata": {},
   "outputs": [
    {
     "data": {
      "text/plain": [
       "45"
      ]
     },
     "execution_count": 5,
     "metadata": {},
     "output_type": "execute_result"
    }
   ],
   "source": [
    "a"
   ]
  },
  {
   "cell_type": "code",
   "execution_count": 6,
   "id": "0b7b2806-2cde-49eb-a89b-9f64b12d564f",
   "metadata": {},
   "outputs": [],
   "source": [
    "colors = ['red',\n",
    "          'blue',\n",
    "          'green']"
   ]
  },
  {
   "cell_type": "code",
   "execution_count": 7,
   "id": "deba315e-f6c8-4832-a38e-a671d3a387f8",
   "metadata": {},
   "outputs": [
    {
     "data": {
      "text/plain": [
       "'blue'"
      ]
     },
     "execution_count": 7,
     "metadata": {},
     "output_type": "execute_result"
    }
   ],
   "source": [
    "colors[1]"
   ]
  },
  {
   "cell_type": "code",
   "execution_count": 8,
   "id": "e1314258-a824-4d34-817b-a618db205397",
   "metadata": {},
   "outputs": [
    {
     "name": "stdout",
     "output_type": "stream",
     "text": [
      "1\n",
      "2\n",
      "3\n",
      "4\n",
      "5\n",
      "6\n",
      "7\n",
      "8\n",
      "9\n",
      "10\n"
     ]
    }
   ],
   "source": [
    "for i in range (1,11):\n",
    "    print(i)"
   ]
  },
  {
   "cell_type": "code",
   "execution_count": 9,
   "id": "4ef93207-3ad4-468f-928b-f921cbd1cacc",
   "metadata": {},
   "outputs": [
    {
     "ename": "IndentationError",
     "evalue": "expected an indented block (<ipython-input-9-e9f598f2c9dc>, line 2)",
     "output_type": "error",
     "traceback": [
      "\u001b[1;36m  File \u001b[1;32m\"<ipython-input-9-e9f598f2c9dc>\"\u001b[1;36m, line \u001b[1;32m2\u001b[0m\n\u001b[1;33m    print(i)\u001b[0m\n\u001b[1;37m    ^\u001b[0m\n\u001b[1;31mIndentationError\u001b[0m\u001b[1;31m:\u001b[0m expected an indented block\n"
     ]
    }
   ],
   "source": [
    "for i in range(1,11):\n",
    "print(i)"
   ]
  },
  {
   "cell_type": "code",
   "execution_count": 10,
   "id": "d5039a5c-91bb-4379-8e7c-84510ade2511",
   "metadata": {},
   "outputs": [
    {
     "data": {
      "text/plain": [
       "'comment'"
      ]
     },
     "execution_count": 10,
     "metadata": {},
     "output_type": "execute_result"
    }
   ],
   "source": [
    "\"\"\"comment\"\"\""
   ]
  },
  {
   "cell_type": "code",
   "execution_count": 11,
   "id": "ec3814c1-df44-454a-b195-5b3abeba3bfb",
   "metadata": {},
   "outputs": [
    {
     "data": {
      "text/plain": [
       "'This is also a\\nperfect example of\\nmulti-line comments'"
      ]
     },
     "execution_count": 11,
     "metadata": {},
     "output_type": "execute_result"
    }
   ],
   "source": [
    "\"\"\"This is also a\n",
    "perfect example of\n",
    "multi-line comments\"\"\"\n"
   ]
  },
  {
   "cell_type": "code",
   "execution_count": 12,
   "id": "47bb7240-4acf-45d7-87de-f851fb933c07",
   "metadata": {},
   "outputs": [
    {
     "name": "stdout",
     "output_type": "stream",
     "text": [
      "hello\n"
     ]
    }
   ],
   "source": [
    "#comment\n",
    "print ('hello')"
   ]
  },
  {
   "cell_type": "code",
   "execution_count": 13,
   "id": "c31f10f1-f585-420a-a498-220f2047b478",
   "metadata": {},
   "outputs": [
    {
     "ename": "NameError",
     "evalue": "name 'pi' is not defined",
     "output_type": "error",
     "traceback": [
      "\u001b[1;31m---------------------------------------------------------------------------\u001b[0m",
      "\u001b[1;31mNameError\u001b[0m                                 Traceback (most recent call last)",
      "\u001b[1;32m<ipython-input-13-f84ab820532c>\u001b[0m in \u001b[0;36m<module>\u001b[1;34m\u001b[0m\n\u001b[1;32m----> 1\u001b[1;33m \u001b[0mpi\u001b[0m\u001b[1;33m\u001b[0m\u001b[1;33m\u001b[0m\u001b[0m\n\u001b[0m",
      "\u001b[1;31mNameError\u001b[0m: name 'pi' is not defined"
     ]
    }
   ],
   "source": [
    "pi"
   ]
  },
  {
   "cell_type": "code",
   "execution_count": 14,
   "id": "6f765900-3f0a-471d-90ea-ecb169acab3a",
   "metadata": {},
   "outputs": [
    {
     "name": "stdout",
     "output_type": "stream",
     "text": [
      "3.141592653589793\n"
     ]
    }
   ],
   "source": [
    "import math\n",
    "print(math.pi)"
   ]
  },
  {
   "cell_type": "code",
   "execution_count": 15,
   "id": "a1fc024c-c361-4659-9a42-e92699c743b5",
   "metadata": {},
   "outputs": [
    {
     "ename": "NameError",
     "evalue": "name 'pi' is not defined",
     "output_type": "error",
     "traceback": [
      "\u001b[1;31m---------------------------------------------------------------------------\u001b[0m",
      "\u001b[1;31mNameError\u001b[0m                                 Traceback (most recent call last)",
      "\u001b[1;32m<ipython-input-15-f84ab820532c>\u001b[0m in \u001b[0;36m<module>\u001b[1;34m\u001b[0m\n\u001b[1;32m----> 1\u001b[1;33m \u001b[0mpi\u001b[0m\u001b[1;33m\u001b[0m\u001b[1;33m\u001b[0m\u001b[0m\n\u001b[0m",
      "\u001b[1;31mNameError\u001b[0m: name 'pi' is not defined"
     ]
    }
   ],
   "source": [
    "pi"
   ]
  },
  {
   "cell_type": "code",
   "execution_count": 16,
   "id": "448d77bb-d8bf-446d-a6f9-2456583b5a58",
   "metadata": {},
   "outputs": [
    {
     "data": {
      "text/plain": [
       "3.141592653589793"
      ]
     },
     "execution_count": 16,
     "metadata": {},
     "output_type": "execute_result"
    }
   ],
   "source": [
    "from math import pi\n",
    "pi"
   ]
  },
  {
   "cell_type": "code",
   "execution_count": 17,
   "id": "3e1eb995-9356-40ef-97e5-17f66b9760ce",
   "metadata": {},
   "outputs": [
    {
     "name": "stdin",
     "output_type": "stream",
     "text": [
      " hello\n"
     ]
    }
   ],
   "source": [
    "x=input()"
   ]
  },
  {
   "cell_type": "code",
   "execution_count": 18,
   "id": "cdcd9a93-6e31-4377-8b82-27feb78a77e0",
   "metadata": {},
   "outputs": [
    {
     "data": {
      "text/plain": [
       "'hello'"
      ]
     },
     "execution_count": 18,
     "metadata": {},
     "output_type": "execute_result"
    }
   ],
   "source": [
    "x"
   ]
  },
  {
   "cell_type": "code",
   "execution_count": 19,
   "id": "95b89bad-0210-402f-a9ed-1c833d93ba22",
   "metadata": {},
   "outputs": [],
   "source": [
    "x=2"
   ]
  },
  {
   "cell_type": "code",
   "execution_count": 21,
   "id": "d25d0d11-a526-4985-bba6-dd4fd367edd1",
   "metadata": {},
   "outputs": [
    {
     "name": "stdout",
     "output_type": "stream",
     "text": [
      "2\n"
     ]
    }
   ],
   "source": [
    "if x<5 :\n",
    "    print(x)"
   ]
  },
  {
   "cell_type": "code",
   "execution_count": 32,
   "id": "b711eabb-1025-498a-8103-3a461dfe12c7",
   "metadata": {},
   "outputs": [
    {
     "name": "stdin",
     "output_type": "stream",
     "text": [
      "entrez un numéro   3\n"
     ]
    }
   ],
   "source": [
    "a= int(input(\"entrez un numéro  \"))"
   ]
  },
  {
   "cell_type": "code",
   "execution_count": 33,
   "id": "0b2caf5f-2078-4ab4-9c8c-f59131638707",
   "metadata": {},
   "outputs": [
    {
     "name": "stdout",
     "output_type": "stream",
     "text": [
      "<class 'int'>\n"
     ]
    }
   ],
   "source": [
    "print(type(a))"
   ]
  },
  {
   "cell_type": "code",
   "execution_count": 34,
   "id": "d37d08d5-81cb-4c98-88d6-af8a7e196ceb",
   "metadata": {},
   "outputs": [],
   "source": [
    "a=\"5\""
   ]
  },
  {
   "cell_type": "code",
   "execution_count": 35,
   "id": "83312d22-25ab-4336-be04-97aecddb2d87",
   "metadata": {},
   "outputs": [
    {
     "name": "stdout",
     "output_type": "stream",
     "text": [
      "<class 'str'>\n"
     ]
    }
   ],
   "source": [
    "print(type(a))"
   ]
  },
  {
   "cell_type": "code",
   "execution_count": 36,
   "id": "52067508-4a51-49f3-8247-6a00a9721c01",
   "metadata": {},
   "outputs": [],
   "source": [
    "a=5"
   ]
  },
  {
   "cell_type": "code",
   "execution_count": 37,
   "id": "dfcb49be-aca0-436d-a11c-fb03d0e1d44f",
   "metadata": {},
   "outputs": [
    {
     "name": "stdout",
     "output_type": "stream",
     "text": [
      "<class 'int'>\n"
     ]
    }
   ],
   "source": [
    "print(type(a))"
   ]
  },
  {
   "cell_type": "code",
   "execution_count": 44,
   "id": "5aaa62d6-4f1d-4448-a9bb-b7d440dad14b",
   "metadata": {},
   "outputs": [],
   "source": [
    "x= 5//3"
   ]
  },
  {
   "cell_type": "code",
   "execution_count": 45,
   "id": "d278be98-5448-46d6-bc48-923349f363e0",
   "metadata": {},
   "outputs": [
    {
     "data": {
      "text/plain": [
       "1"
      ]
     },
     "execution_count": 45,
     "metadata": {},
     "output_type": "execute_result"
    }
   ],
   "source": [
    "x"
   ]
  },
  {
   "cell_type": "code",
   "execution_count": 42,
   "id": "16037b90-7bfb-48bc-852e-2a5e328daefc",
   "metadata": {},
   "outputs": [],
   "source": [
    "x=5/3"
   ]
  },
  {
   "cell_type": "code",
   "execution_count": 43,
   "id": "ca57f578-edb1-4617-9de8-10b8113a9624",
   "metadata": {},
   "outputs": [
    {
     "data": {
      "text/plain": [
       "1.6666666666666667"
      ]
     },
     "execution_count": 43,
     "metadata": {},
     "output_type": "execute_result"
    }
   ],
   "source": [
    "x"
   ]
  },
  {
   "cell_type": "code",
   "execution_count": 46,
   "id": "df9e7023-cfd8-4c6e-9d6e-e98f18cabff0",
   "metadata": {},
   "outputs": [],
   "source": [
    "x=3%2"
   ]
  },
  {
   "cell_type": "code",
   "execution_count": 47,
   "id": "6dafb554-9d0e-48c9-b0b1-702c88e0b57d",
   "metadata": {},
   "outputs": [
    {
     "data": {
      "text/plain": [
       "1"
      ]
     },
     "execution_count": 47,
     "metadata": {},
     "output_type": "execute_result"
    }
   ],
   "source": [
    "x"
   ]
  },
  {
   "cell_type": "code",
   "execution_count": 48,
   "id": "889b66db-fc6b-4ebe-aafb-8ea697331a83",
   "metadata": {},
   "outputs": [],
   "source": [
    "x=5%3"
   ]
  },
  {
   "cell_type": "code",
   "execution_count": 49,
   "id": "13d93de4-cf1f-43c0-a603-b37f8b385193",
   "metadata": {},
   "outputs": [
    {
     "data": {
      "text/plain": [
       "2"
      ]
     },
     "execution_count": 49,
     "metadata": {},
     "output_type": "execute_result"
    }
   ],
   "source": [
    "x"
   ]
  },
  {
   "cell_type": "code",
   "execution_count": 51,
   "id": "7ba9924b-42b1-487c-91bf-e5c45433eea3",
   "metadata": {},
   "outputs": [],
   "source": [
    "x=[\"rouge\",\"noir\",\"bleu\"]"
   ]
  },
  {
   "cell_type": "code",
   "execution_count": 52,
   "id": "58e2b2f1-02e0-4338-9bb4-f303a5cdfb30",
   "metadata": {},
   "outputs": [],
   "source": [
    "y=\"bleu\""
   ]
  },
  {
   "cell_type": "code",
   "execution_count": 56,
   "id": "a02700e1-6ae9-401c-9501-28effc6aa7c5",
   "metadata": {},
   "outputs": [],
   "source": [
    "z=y not in x"
   ]
  },
  {
   "cell_type": "code",
   "execution_count": 57,
   "id": "ec245e9e-bf35-42b5-991b-5302811783d2",
   "metadata": {},
   "outputs": [
    {
     "data": {
      "text/plain": [
       "False"
      ]
     },
     "execution_count": 57,
     "metadata": {},
     "output_type": "execute_result"
    }
   ],
   "source": [
    "z"
   ]
  },
  {
   "cell_type": "code",
   "execution_count": 58,
   "id": "2bcd1583-5e49-4514-b1a2-0fb8e249e208",
   "metadata": {},
   "outputs": [],
   "source": [
    "text=\"welcome to python\""
   ]
  },
  {
   "cell_type": "code",
   "execution_count": 59,
   "id": "deb007e0-6088-4e9a-bae4-817139378dff",
   "metadata": {},
   "outputs": [
    {
     "name": "stdout",
     "output_type": "stream",
     "text": [
      "p\n"
     ]
    }
   ],
   "source": [
    "print(text[11])"
   ]
  },
  {
   "cell_type": "code",
   "execution_count": 60,
   "id": "ae9163f2-06ef-4e70-9219-82368edd7486",
   "metadata": {},
   "outputs": [
    {
     "name": "stdout",
     "output_type": "stream",
     "text": [
      "n\n"
     ]
    }
   ],
   "source": [
    "print(text[-1])"
   ]
  },
  {
   "cell_type": "code",
   "execution_count": 61,
   "id": "4c52aab9-1463-4b43-b500-50858f3ac3b1",
   "metadata": {},
   "outputs": [
    {
     "name": "stdout",
     "output_type": "stream",
     "text": [
      "o\n"
     ]
    }
   ],
   "source": [
    "print(text[-2])"
   ]
  },
  {
   "cell_type": "code",
   "execution_count": 62,
   "id": "ddb06839-eacc-4c85-b7a7-88b0dcd4a1f2",
   "metadata": {},
   "outputs": [
    {
     "ename": "IndexError",
     "evalue": "string index out of range",
     "output_type": "error",
     "traceback": [
      "\u001b[1;31m---------------------------------------------------------------------------\u001b[0m",
      "\u001b[1;31mIndexError\u001b[0m                                Traceback (most recent call last)",
      "\u001b[1;32m<ipython-input-62-621b2456e55b>\u001b[0m in \u001b[0;36m<module>\u001b[1;34m\u001b[0m\n\u001b[1;32m----> 1\u001b[1;33m \u001b[0mprint\u001b[0m\u001b[1;33m(\u001b[0m\u001b[0mtext\u001b[0m\u001b[1;33m[\u001b[0m\u001b[1;36m20\u001b[0m\u001b[1;33m]\u001b[0m\u001b[1;33m)\u001b[0m\u001b[1;33m\u001b[0m\u001b[1;33m\u001b[0m\u001b[0m\n\u001b[0m",
      "\u001b[1;31mIndexError\u001b[0m: string index out of range"
     ]
    }
   ],
   "source": [
    "print(text[20])"
   ]
  },
  {
   "cell_type": "markdown",
   "id": "36731ef1-9a7a-4302-b285-20afc77bd20f",
   "metadata": {},
   "source": [
    "text=\"welcome to python\""
   ]
  },
  {
   "cell_type": "code",
   "execution_count": 67,
   "id": "7ec27912-4ec7-41cb-a7e5-7087716d80cf",
   "metadata": {},
   "outputs": [],
   "source": [
    "text2=\"into my code\""
   ]
  },
  {
   "cell_type": "code",
   "execution_count": 68,
   "id": "a6e88e07-7afe-430f-b03b-6de152813775",
   "metadata": {},
   "outputs": [],
   "source": [
    "text='welcome to python'"
   ]
  },
  {
   "cell_type": "code",
   "execution_count": 76,
   "id": "4ca87fb8-e470-461d-871c-8d3127eeeb04",
   "metadata": {},
   "outputs": [],
   "source": [
    "f= text+' '+text2"
   ]
  },
  {
   "cell_type": "code",
   "execution_count": 77,
   "id": "5337d6f6-dea9-452e-8db4-90d3d2fc5928",
   "metadata": {},
   "outputs": [
    {
     "name": "stdout",
     "output_type": "stream",
     "text": [
      "30\n"
     ]
    }
   ],
   "source": [
    "print(len(f))"
   ]
  },
  {
   "cell_type": "code",
   "execution_count": 78,
   "id": "2343f5d0-eb8f-4314-a76d-c34646f4f776",
   "metadata": {},
   "outputs": [],
   "source": [
    "x=float(5)"
   ]
  },
  {
   "cell_type": "code",
   "execution_count": 79,
   "id": "08ec8f2e-94db-4ff9-b8d2-9cb74e332eb3",
   "metadata": {},
   "outputs": [
    {
     "name": "stdout",
     "output_type": "stream",
     "text": [
      "<class 'float'>\n"
     ]
    }
   ],
   "source": [
    "print(type(x))"
   ]
  },
  {
   "cell_type": "code",
   "execution_count": 80,
   "id": "a1a192b3-e413-46fc-9a20-0c5b5de502d3",
   "metadata": {},
   "outputs": [],
   "source": [
    "x=float(\"5\")"
   ]
  },
  {
   "cell_type": "code",
   "execution_count": 81,
   "id": "cc5a43f8-7ea8-48c1-9bad-8b323d33ecf0",
   "metadata": {},
   "outputs": [
    {
     "name": "stdout",
     "output_type": "stream",
     "text": [
      "<class 'float'>\n"
     ]
    }
   ],
   "source": [
    "print(type(x))"
   ]
  },
  {
   "cell_type": "code",
   "execution_count": 82,
   "id": "d0d1399b-90e4-450e-b0ed-1c4dfd4eba92",
   "metadata": {},
   "outputs": [
    {
     "ename": "ValueError",
     "evalue": "invalid literal for int() with base 10: '5Z'",
     "output_type": "error",
     "traceback": [
      "\u001b[1;31m---------------------------------------------------------------------------\u001b[0m",
      "\u001b[1;31mValueError\u001b[0m                                Traceback (most recent call last)",
      "\u001b[1;32m<ipython-input-82-400f5f9b6601>\u001b[0m in \u001b[0;36m<module>\u001b[1;34m\u001b[0m\n\u001b[1;32m----> 1\u001b[1;33m \u001b[0mx\u001b[0m\u001b[1;33m=\u001b[0m\u001b[0mint\u001b[0m\u001b[1;33m(\u001b[0m\u001b[1;34m\"5Z\"\u001b[0m\u001b[1;33m)\u001b[0m\u001b[1;33m\u001b[0m\u001b[1;33m\u001b[0m\u001b[0m\n\u001b[0m",
      "\u001b[1;31mValueError\u001b[0m: invalid literal for int() with base 10: '5Z'"
     ]
    }
   ],
   "source": [
    "x=int(\"5Z\")"
   ]
  },
  {
   "cell_type": "code",
   "execution_count": 83,
   "id": "db9d22ad-181a-498b-99dc-537fc422e00e",
   "metadata": {},
   "outputs": [],
   "source": [
    "x=str(5)"
   ]
  },
  {
   "cell_type": "code",
   "execution_count": 84,
   "id": "0389df21-6f14-45b8-bc95-a771009f8e40",
   "metadata": {},
   "outputs": [
    {
     "name": "stdout",
     "output_type": "stream",
     "text": [
      "<class 'str'>\n"
     ]
    }
   ],
   "source": [
    "print(type(x))"
   ]
  },
  {
   "cell_type": "code",
   "execution_count": 85,
   "id": "043879f0-ae6d-4923-83da-aaed1322a3a7",
   "metadata": {},
   "outputs": [
    {
     "name": "stdout",
     "output_type": "stream",
     "text": [
      "False\n"
     ]
    }
   ],
   "source": [
    "print(10<9)"
   ]
  },
  {
   "cell_type": "code",
   "execution_count": 87,
   "id": "69d4b247-3aa0-4eb3-8ac3-fa2368cc7fb3",
   "metadata": {},
   "outputs": [
    {
     "name": "stdout",
     "output_type": "stream",
     "text": [
      "This is always printed.\n"
     ]
    }
   ],
   "source": [
    "num = -1\n",
    "if num > 0:\n",
    "    print(num, \"is a positive number.\")\n",
    "print(\"This is always printed.\")"
   ]
  },
  {
   "cell_type": "code",
   "execution_count": 89,
   "id": "55d1e90c-4b99-4367-8243-158492b3d70a",
   "metadata": {},
   "outputs": [
    {
     "name": "stdout",
     "output_type": "stream",
     "text": [
      "1\n",
      "3\n",
      "5\n",
      "7\n",
      "9\n",
      "11\n",
      "13\n",
      "15\n",
      "17\n",
      "19\n"
     ]
    }
   ],
   "source": [
    "for i in range(1,20,2):\n",
    "    print(i)"
   ]
  },
  {
   "cell_type": "code",
   "execution_count": null,
   "id": "135abffd-4152-4244-97e5-e64b24cb0ce6",
   "metadata": {},
   "outputs": [],
   "source": []
  },
  {
   "cell_type": "code",
   "execution_count": 90,
   "id": "6e409593-858c-4bb0-a63c-272c17820c0d",
   "metadata": {},
   "outputs": [
    {
     "name": "stdin",
     "output_type": "stream",
     "text": [
      "first name mohamed\n"
     ]
    }
   ],
   "source": [
    "first=input(\"first name\")"
   ]
  },
  {
   "cell_type": "code",
   "execution_count": 91,
   "id": "d873e480-7133-402d-a333-281bf81c1b57",
   "metadata": {},
   "outputs": [
    {
     "name": "stdin",
     "output_type": "stream",
     "text": [
      "last name cherif\n"
     ]
    }
   ],
   "source": [
    "last=input(\"last name\")"
   ]
  },
  {
   "cell_type": "code",
   "execution_count": 94,
   "id": "7e1c6060-df3a-45b1-8cd5-b5711de9ac9f",
   "metadata": {},
   "outputs": [],
   "source": [
    "result =last+' '+first"
   ]
  },
  {
   "cell_type": "code",
   "execution_count": 95,
   "id": "04eb5846-82e2-49b8-807f-43466b8b73c5",
   "metadata": {},
   "outputs": [
    {
     "name": "stdout",
     "output_type": "stream",
     "text": [
      "cherif mohamed\n"
     ]
    }
   ],
   "source": [
    "print(result)"
   ]
  },
  {
   "cell_type": "code",
   "execution_count": 96,
   "id": "d25e043d-1d30-4d7a-bb78-1ecab9cd5e05",
   "metadata": {},
   "outputs": [],
   "source": [
    "n=5"
   ]
  },
  {
   "cell_type": "code",
   "execution_count": 102,
   "id": "0ae6875e-cf39-408e-9166-00cc7b14d87b",
   "metadata": {},
   "outputs": [
    {
     "name": "stdin",
     "output_type": "stream",
     "text": [
      " 5\n"
     ]
    },
    {
     "name": "stdout",
     "output_type": "stream",
     "text": [
      "615\n"
     ]
    }
   ],
   "source": [
    "#question 2\n",
    "a=input()\n",
    "n1=int(a)\n",
    "n2=int(\"%s%s\" % (a,a))\n",
    "n3=int(\"%s%s%s\" % (a,a,a))\n",
    "print(n1+n2+n3)"
   ]
  },
  {
   "cell_type": "code",
   "execution_count": null,
   "id": "520c2295-bb84-48fb-8b9f-a0e5555f4e42",
   "metadata": {},
   "outputs": [],
   "source": [
    "n3"
   ]
  },
  {
   "cell_type": "code",
   "execution_count": 106,
   "id": "94cb7768-d468-4e2f-a937-7ecb32af6f7d",
   "metadata": {},
   "outputs": [
    {
     "name": "stdin",
     "output_type": "stream",
     "text": [
      " 5\n"
     ]
    },
    {
     "name": "stdout",
     "output_type": "stream",
     "text": [
      "5 impair\n"
     ]
    }
   ],
   "source": [
    "#question3\n",
    "a=int(input())\n",
    "y=a%2\n",
    "if y==1:\n",
    "    print(a,\"impair\")\n",
    "else:\n",
    "    print(a,\"pair\")"
   ]
  },
  {
   "cell_type": "code",
   "execution_count": 111,
   "id": "de1ed187-425c-48fa-a727-d13eea38cab1",
   "metadata": {},
   "outputs": [
    {
     "name": "stdout",
     "output_type": "stream",
     "text": [
      "2002,2009,2016,2023,2037,2044,2051,2058,2072,2079,2086,2093,2107,2114,2121,2128,2142,2149,2156,2163,2177,2184,2191,2198,2212,2219,2226,2233,2247,2254,2261,2268,2282,2289,2296,2303,2317,2324,2331,2338,2352,2359,2366,2373,2387,2394,2401,2408,2422,2429,2436,2443,2457,2464,2471,2478,2492,2499,2506,2513,2527,2534,2541,2548,2562,2569,2576,2583,2597,2604,2611,2618,2632,2639,2646,2653,2667,2674,2681,2688,2702,2709,2716,2723,2737,2744,2751,2758,2772,2779,2786,2793,2807,2814,2821,2828,2842,2849,2856,2863,2877,2884,2891,2898,2912,2919,2926,2933,2947,2954,2961,2968,2982,2989,2996,3003,3017,3024,3031,3038,3052,3059,3066,3073,3087,3094,3101,3108,3122,3129,3136,3143,3157,3164,3171,3178,3192,3199,"
     ]
    }
   ],
   "source": [
    "#question 4\n",
    "for i in range(2000,3200,1):\n",
    "    if i%7 == 0 and i%5 != 0:\n",
    "        print(i,end=\",\")\n",
    "        "
   ]
  },
  {
   "cell_type": "code",
   "execution_count": 112,
   "id": "5f671a78-2cf6-4281-872c-fd9e55122633",
   "metadata": {},
   "outputs": [
    {
     "name": "stdout",
     "output_type": "stream",
     "text": [
      "2002,2009,2016,2023,2037,2044,2051,2058,2072,2079,2086,2093,2107,2114,2121,2128,2142,2149,2156,2163,2177,2184,2191,2198,2212,2219,2226,2233,2247,2254,2261,2268,2282,2289,2296,2303,2317,2324,2331,2338,2352,2359,2366,2373,2387,2394,2401,2408,2422,2429,2436,2443,2457,2464,2471,2478,2492,2499,2506,2513,2527,2534,2541,2548,2562,2569,2576,2583,2597,2604,2611,2618,2632,2639,2646,2653,2667,2674,2681,2688,2702,2709,2716,2723,2737,2744,2751,2758,2772,2779,2786,2793,2807,2814,2821,2828,2842,2849,2856,2863,2877,2884,2891,2898,2912,2919,2926,2933,2947,2954,2961,2968,2982,2989,2996,3003,3017,3024,3031,3038,3052,3059,3066,3073,3087,3094,3101,3108,3122,3129,3136,3143,3157,3164,3171,3178,3192,3199\n"
     ]
    }
   ],
   "source": [
    "print(*(i for i in range(2000, 3201) if i%7 == 0 and i%5 != 0), sep=\",\")"
   ]
  },
  {
   "cell_type": "markdown",
   "id": "4c270531-2ffe-48a0-b107-0dadcb105317",
   "metadata": {},
   "source": [
    "# question 5\n",
    "nbr=int(input(\"calcul factoriel de\"))\n",
    "x=1\n",
    "for i in range (1,nbr+1):\n",
    "    x=x*i\n",
    "print(x)"
   ]
  },
  {
   "cell_type": "code",
   "execution_count": 119,
   "id": "87c29797-0f30-4ad0-8346-050a6db3a18f",
   "metadata": {},
   "outputs": [
    {
     "name": "stdin",
     "output_type": "stream",
     "text": [
      " hello team\n"
     ]
    },
    {
     "name": "stdout",
     "output_type": "stream",
     "text": [
      "hlota\n"
     ]
    }
   ],
   "source": [
    "#question 6\n",
    "char=input()\n",
    "x=len(char)\n",
    "result=''\n",
    "for i in range(x):\n",
    "    if i%2==0:\n",
    "        result=result + char[i]\n",
    "print(result)\n"
   ]
  },
  {
   "cell_type": "code",
   "execution_count": 123,
   "id": "02296f14-d292-48ec-a02c-3af643cc0338",
   "metadata": {},
   "outputs": [
    {
     "name": "stdin",
     "output_type": "stream",
     "text": [
      "price 100\n"
     ]
    },
    {
     "name": "stdout",
     "output_type": "stream",
     "text": [
      "10% discount\n"
     ]
    }
   ],
   "source": [
    "x=int(input(\"price\"))\n",
    "if x>=500:\n",
    "    print(\"50% discount\")\n",
    "elif (x >= 200 and x < 500):\n",
    "        print(\"30% discount\")\n",
    "elif x<200:\n",
    "            print(\"10% discount\")\n",
    "        "
   ]
  },
  {
   "cell_type": "code",
   "execution_count": null,
   "id": "07463dfd-707a-4d15-b92b-a3003216d299",
   "metadata": {},
   "outputs": [],
   "source": []
  }
 ],
 "metadata": {
  "kernelspec": {
   "display_name": "Python 3",
   "language": "python",
   "name": "python3"
  },
  "language_info": {
   "codemirror_mode": {
    "name": "ipython",
    "version": 3
   },
   "file_extension": ".py",
   "mimetype": "text/x-python",
   "name": "python",
   "nbconvert_exporter": "python",
   "pygments_lexer": "ipython3",
   "version": "3.8.8"
  }
 },
 "nbformat": 4,
 "nbformat_minor": 5
}
