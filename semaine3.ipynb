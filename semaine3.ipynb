{
 "cells": [
  {
   "cell_type": "code",
   "execution_count": 16,
   "id": "5d6faed7-aba7-477f-b602-6e06fbafb353",
   "metadata": {},
   "outputs": [
    {
     "name": "stdout",
     "output_type": "stream",
     "text": [
      "[707, 721, 749, 763, 777, 791, 819, 833, 847, 861, 889, 903, 917, 931, 959, 973, 987, 1001, 1029, 1043, 1057, 1071, 1099]\n",
      "0\n",
      "23\n"
     ]
    }
   ],
   "source": [
    "L=[]\n",
    "nbr=0\n",
    "somme=0\n",
    "for i in range (700,1100):\n",
    "    if (i%7 == 0) and (i%2 != 0) and (i%5 != 0):\n",
    "        L.append(i)\n",
    "        nbr += 1\n",
    "print(L)\n",
    "print(somme)\n",
    "print(nbr)"
   ]
  },
  {
   "cell_type": "code",
   "execution_count": 18,
   "id": "16096d84-6705-413d-a5ee-030b06ab98db",
   "metadata": {},
   "outputs": [
    {
     "name": "stdout",
     "output_type": "stream",
     "text": [
      "[701, 702, 703, 704, 705, 706, 707, 708, 709, 710, 711, 712, 713, 715, 716, 717, 718, 719, 720, 721, 722, 723, 724, 725, 726, 727, 729, 730, 731, 732, 733, 734, 735, 736, 737, 738, 739, 740, 741, 743, 744, 745, 746, 747, 748, 749, 750, 751, 752, 753, 754, 755, 757, 758, 759, 760, 761, 762, 763, 764, 765, 766, 767, 768, 769, 771, 772, 773, 774, 775, 776, 777, 778, 779, 780, 781, 782, 783, 785, 786, 787, 788, 789, 790, 791, 792, 793, 794, 795, 796, 797, 799, 800, 801, 802, 803, 804, 805, 806, 807, 808, 809, 810, 811, 813, 814, 815, 816, 817, 818, 819, 820, 821, 822, 823, 824, 825, 827, 828, 829, 830, 831, 832, 833, 834, 835, 836, 837, 838, 839, 841, 842, 843, 844, 845, 846, 847, 848, 849, 850, 851, 852, 853, 855, 856, 857, 858, 859, 860, 861, 862, 863, 864, 865, 866, 867, 869, 870, 871, 872, 873, 874, 875, 876, 877, 878, 879, 880, 881, 883, 884, 885, 886, 887, 888, 889, 890, 891, 892, 893, 894, 895, 897, 898, 899, 900, 901, 902, 903, 904, 905, 906, 907, 908, 909, 911, 912, 913, 914, 915, 916, 917, 918, 919, 920, 921, 922, 923, 925, 926, 927, 928, 929, 930, 931, 932, 933, 934, 935, 936, 937, 939, 940, 941, 942, 943, 944, 945, 946, 947, 948, 949, 950, 951, 953, 954, 955, 956, 957, 958, 959, 960, 961, 962, 963, 964, 965, 967, 968, 969, 970, 971, 972, 973, 974, 975, 976, 977, 978, 979, 981, 982, 983, 984, 985, 986, 987, 988, 989, 990, 991, 992, 993, 995, 996, 997, 998, 999, 1000, 1001, 1002, 1003, 1004, 1005, 1006, 1007, 1009, 1010, 1011, 1012, 1013, 1014, 1015, 1016, 1017, 1018, 1019, 1020, 1021, 1023, 1024, 1025, 1026, 1027, 1028, 1029, 1030, 1031, 1032, 1033, 1034, 1035, 1037, 1038, 1039, 1040, 1041, 1042, 1043, 1044, 1045, 1046, 1047, 1048, 1049, 1051, 1052, 1053, 1054, 1055, 1056, 1057, 1058, 1059, 1060, 1061, 1062, 1063, 1065, 1066, 1067, 1068, 1069, 1070, 1071, 1072, 1073, 1074, 1075, 1076, 1077, 1079, 1080, 1081, 1082, 1083, 1084, 1085, 1086, 1087, 1088, 1089, 1090, 1091, 1093, 1094, 1095, 1096, 1097, 1098, 1099]\n",
      "0\n",
      "371\n"
     ]
    }
   ],
   "source": [
    "L=[]\n",
    "nbr=0\n",
    "somme=0\n",
    "for i in range (700,1100):\n",
    "    if (i%7 == 0):\n",
    "        if (i%2 == 0):\n",
    "            continue\n",
    "            if (i%5 == 0):\n",
    "                continue\n",
    "    L.append(i)\n",
    "    nbr += 1\n",
    "print(L)\n",
    "print(somme)\n",
    "print(nbr)"
   ]
  },
  {
   "cell_type": "code",
   "execution_count": null,
   "id": "bfc72d62-4595-4558-9acf-1a8edc378c88",
   "metadata": {},
   "outputs": [],
   "source": [
    "start=input(\"start\")\n"
   ]
  },
  {
   "cell_type": "code",
   "execution_count": 32,
   "id": "05aef82a-fe4c-47e5-864a-26e2f7ecd2ff",
   "metadata": {},
   "outputs": [
    {
     "name": "stdin",
     "output_type": "stream",
     "text": [
      "start -15\n",
      "end 0\n"
     ]
    },
    {
     "name": "stdout",
     "output_type": "stream",
     "text": [
      "-15\n",
      "-14\n",
      "-13\n",
      "-12\n",
      "-11\n",
      "-10\n",
      "-9\n",
      "-8\n",
      "-7\n",
      "-6\n",
      "-5\n",
      "-4\n",
      "-3\n",
      "-2\n",
      "-1\n"
     ]
    }
   ],
   "source": [
    "start=int(input(\"start\"))\n",
    "end=int(input(\"end\"))\n",
    "\n",
    "for i in range (start,end+1):\n",
    "    if i < 0:\n",
    "        print(i)"
   ]
  },
  {
   "cell_type": "code",
   "execution_count": 35,
   "id": "e35941ca-2850-4560-b616-063e4451e703",
   "metadata": {},
   "outputs": [
    {
     "name": "stdout",
     "output_type": "stream",
     "text": [
      "[11, 5, 17, 23]\n"
     ]
    }
   ],
   "source": [
    "L1=[11,5,17,18,23,50]\n",
    "for i in L1:\n",
    "    if i%2 == 0:\n",
    "        L1.remove(i)\n",
    "print(L1)"
   ]
  },
  {
   "cell_type": "code",
   "execution_count": 42,
   "id": "ba068a38-664f-41ec-bce2-4148510acce4",
   "metadata": {},
   "outputs": [
    {
     "name": "stdin",
     "output_type": "stream",
     "text": [
      " 1233\n"
     ]
    },
    {
     "name": "stdout",
     "output_type": "stream",
     "text": [
      "3\n",
      "['1', '2', '3', '3']\n"
     ]
    }
   ],
   "source": [
    "d=input()\n",
    "l = [i for i in d]\n",
    "for i in l:\n",
    "    x=0\n",
    "    for j in l:\n",
    "        if i==j:\n",
    "            x += 1\n",
    "    if x > 1:\n",
    "        break\n",
    "print(i)\n",
    "print(l)"
   ]
  },
  {
   "cell_type": "code",
   "execution_count": 43,
   "id": "21894b2b-776f-4094-97c4-35d497159fc4",
   "metadata": {},
   "outputs": [
    {
     "name": "stdin",
     "output_type": "stream",
     "text": [
      "saisir un entier:  45646\n"
     ]
    },
    {
     "name": "stdout",
     "output_type": "stream",
     "text": [
      "45646  est non distinct\n"
     ]
    }
   ],
   "source": [
    "# ou\n",
    "n = int(input(\"saisir un entier: \"))\n",
    "etat = True\n",
    "if n > 0:\n",
    "    ch = str(n)\n",
    "    for lettre in ch:\n",
    "        if ch.count(lettre) > 1:\n",
    "            etat = False\n",
    "            break\n",
    "    if etat == True:\n",
    "        print(n, \" est distinct\")\n",
    "    else:\n",
    "        print(n, \" est non distinct\")"
   ]
  },
  {
   "cell_type": "code",
   "execution_count": 59,
   "id": "57802196-9109-481e-b1db-a855fcb8b6cc",
   "metadata": {},
   "outputs": [
    {
     "name": "stdout",
     "output_type": "stream",
     "text": [
      "36\n"
     ]
    }
   ],
   "source": [
    "list=[2,3,6]\n",
    "x=1\n",
    "for i in list:\n",
    "    x *= i\n",
    "print(x)"
   ]
  },
  {
   "cell_type": "code",
   "execution_count": 66,
   "id": "c61309ed-38c2-4fd4-9c02-a8d749abe73d",
   "metadata": {},
   "outputs": [
    {
     "name": "stdout",
     "output_type": "stream",
     "text": [
      "[(2, 1), (1, 2), (2, 3), (4, 4), (2, 5)]\n"
     ]
    }
   ],
   "source": [
    "List = [(2, 5), (1, 2), (4, 4), (2, 3), (2, 1)]\n",
    "List.sort(key=lambda x:x [-1])\n",
    "print(List)"
   ]
  },
  {
   "cell_type": "code",
   "execution_count": 67,
   "id": "fb517fd2-af3c-44dc-a91c-c5ddb1a3ee44",
   "metadata": {},
   "outputs": [
    {
     "name": "stdout",
     "output_type": "stream",
     "text": [
      "{'a': 400, 'b': 400, 'd': 400}\n"
     ]
    }
   ],
   "source": [
    "d1 = {'a': 100, 'b': 200, 'c':300}\n",
    "d2 = {'a': 300, 'b': 200, 'd':400}\n",
    "d3={}\n",
    "for key in d1:\n",
    "        if key in d2:\n",
    "            d2[key]+=d1[key]\n",
    "print(d2)"
   ]
  },
  {
   "cell_type": "code",
   "execution_count": 70,
   "id": "1a7bf1a5-5c8f-4e37-95a8-d1551a4cd915",
   "metadata": {},
   "outputs": [
    {
     "name": "stdout",
     "output_type": "stream",
     "text": [
      "{1: 1, 2: 4, 3: 9, 4: 16, 5: 25, 6: 36, 7: 49, 8: 64}\n"
     ]
    }
   ],
   "source": [
    "for i in range (1,9):\n",
    "    dict1[i]=i**2\n",
    "print(dict1)"
   ]
  },
  {
   "cell_type": "code",
   "execution_count": 76,
   "id": "6a25fb28-f5fc-4bf3-963c-970d526e358e",
   "metadata": {},
   "outputs": [
    {
     "name": "stdout",
     "output_type": "stream",
     "text": [
      "[('item3', '24.5'), ('item2', '15.10'), ('item1', '12.20')]\n"
     ]
    }
   ],
   "source": [
    "tup= [('item1', '12.20'), ('item2', '15.10'), ('item3', '24.5')]\n",
    "tup.sort(key=lambda x:x[-1])\n",
    "tup.sort(reverse= True)\n",
    "print(tup)\n"
   ]
  },
  {
   "cell_type": "code",
   "execution_count": null,
   "id": "072fd260-08ce-4042-b004-4a53b542b193",
   "metadata": {},
   "outputs": [],
   "source": []
  }
 ],
 "metadata": {
  "kernelspec": {
   "display_name": "Python 3",
   "language": "python",
   "name": "python3"
  },
  "language_info": {
   "codemirror_mode": {
    "name": "ipython",
    "version": 3
   },
   "file_extension": ".py",
   "mimetype": "text/x-python",
   "name": "python",
   "nbconvert_exporter": "python",
   "pygments_lexer": "ipython3",
   "version": "3.8.8"
  }
 },
 "nbformat": 4,
 "nbformat_minor": 5
}
