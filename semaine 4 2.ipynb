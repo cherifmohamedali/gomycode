{
 "cells": [
  {
   "cell_type": "code",
   "execution_count": 4,
   "id": "6bd9b564-f28d-4c66-9aa0-77df5a98698c",
   "metadata": {},
   "outputs": [
    {
     "data": {
      "text/plain": [
       "24"
      ]
     },
     "execution_count": 4,
     "metadata": {},
     "output_type": "execute_result"
    }
   ],
   "source": [
    "import numpy\n",
    "list1=[1,2,3,4]\n",
    "sum(list1)\n",
    "numpy.prod(list1)"
   ]
  },
  {
   "cell_type": "code",
   "execution_count": 5,
   "id": "a48fc0b4-2042-44e5-9471-d91b8686e2ef",
   "metadata": {},
   "outputs": [
    {
     "data": {
      "text/plain": [
       "24"
      ]
     },
     "execution_count": 5,
     "metadata": {},
     "output_type": "execute_result"
    }
   ],
   "source": [
    "def multip1(L):\n",
    "    m=1\n",
    "    for i in L:\n",
    "        m *= i\n",
    "    return m\n",
    "multip1(list1)"
   ]
  },
  {
   "cell_type": "code",
   "execution_count": 10,
   "id": "42de0ba8-14b0-44be-acdd-1123611ccda7",
   "metadata": {},
   "outputs": [
    {
     "name": "stdout",
     "output_type": "stream",
     "text": [
      "6 3\n"
     ]
    }
   ],
   "source": [
    "\n",
    "listeven = [x for x in list1 if x%2 == 0]\n",
    "listodd = [x for x in list1 if x%2 != 0]\n",
    "print(sum(listeven),numpy.prod(listodd))\n"
   ]
  },
  {
   "cell_type": "code",
   "execution_count": 23,
   "id": "f56ded33-d1d4-4e7a-82f8-8352a8107675",
   "metadata": {},
   "outputs": [
    {
     "name": "stdout",
     "output_type": "stream",
     "text": [
      "black-green-red-white-yellow\n"
     ]
    }
   ],
   "source": [
    "Sample=\"green-red-yellow-black-white\"\n",
    "List = Sample.split(\"-\")\n",
    "List.sort()\n",
    "print('-'.join(List))"
   ]
  },
  {
   "cell_type": "code",
   "execution_count": 20,
   "id": "4547d3b2-2439-40d0-8870-aa8f16796665",
   "metadata": {},
   "outputs": [
    {
     "name": "stdout",
     "output_type": "stream",
     "text": [
      "None\n"
     ]
    }
   ],
   "source": [
    "print(List.sort())"
   ]
  },
  {
   "cell_type": "code",
   "execution_count": 1,
   "id": "039a580e-cc5a-49f1-a053-22ae46d72b5c",
   "metadata": {},
   "outputs": [
    {
     "ename": "SyntaxError",
     "evalue": "invalid syntax (<ipython-input-1-93b7aee46ab5>, line 9)",
     "output_type": "error",
     "traceback": [
      "\u001b[1;36m  File \u001b[1;32m\"<ipython-input-1-93b7aee46ab5>\"\u001b[1;36m, line \u001b[1;32m9\u001b[0m\n\u001b[1;33m    Listres = [x for i in Listnumber,formule(Listnumber[i])]\u001b[0m\n\u001b[1;37m                                    ^\u001b[0m\n\u001b[1;31mSyntaxError\u001b[0m\u001b[1;31m:\u001b[0m invalid syntax\n"
     ]
    }
   ],
   "source": [
    "from math import sqrt\n",
    "C=50\n",
    "H=30\n",
    "number=(100,150,180)\n",
    "Listnumber = number.split(\",\")\n",
    "def formule (D):\n",
    "    Q = sqrt((2 * C * D)/H)  \n",
    "    return Q\n",
    "Listres = [x for i in Listnumber,formule(Listnumber[i])]\n",
    "listres"
   ]
  },
  {
   "cell_type": "code",
   "execution_count": 35,
   "id": "15bcd7f1-f12d-49d8-a053-b5b74f0a5b05",
   "metadata": {},
   "outputs": [
    {
     "name": "stdin",
     "output_type": "stream",
     "text": [
      " 100,150,180\n"
     ]
    },
    {
     "data": {
      "text/plain": [
       "'18,22,24'"
      ]
     },
     "execution_count": 35,
     "metadata": {},
     "output_type": "execute_result"
    }
   ],
   "source": [
    "import math\n",
    "def func5():\n",
    "    c=50\n",
    "    h=30\n",
    "    value = []\n",
    "    items=[x for x in input().split(',')]\n",
    "    for d in items:\n",
    "        value.append(str(int(round(math.sqrt(2*c*float(d)/h)))))\n",
    "    return(','.join(value))\n",
    "func5()"
   ]
  },
  {
   "cell_type": "code",
   "execution_count": 41,
   "id": "bfaa0daa-5f3a-4bd7-9289-914063224f26",
   "metadata": {},
   "outputs": [
    {
     "data": {
      "text/plain": [
       "['go', 'py', 'da']"
      ]
     },
     "execution_count": 41,
     "metadata": {},
     "output_type": "execute_result"
    }
   ],
   "source": [
    "strings=(\"gomycode\", \"python\", \"data science\")\n",
    "result =list(map(lambda ch :ch[:2],strings))\n",
    "result"
   ]
  },
  {
   "cell_type": "code",
   "execution_count": 48,
   "id": "ceaca22d-cab5-47d2-9192-be4ded431b06",
   "metadata": {},
   "outputs": [
    {
     "name": "stdin",
     "output_type": "stream",
     "text": [
      " mlPlPnjTR\n"
     ]
    },
    {
     "name": "stdout",
     "output_type": "stream",
     "text": [
      "upper :  4 lower: 5\n"
     ]
    }
   ],
   "source": [
    "x=input()\n",
    "listin =list(x)\n",
    "listupper=[]\n",
    "listlower=[]\n",
    "for i in listin:\n",
    "    if i.isupper():\n",
    "        listupper.append(i)\n",
    "    else:\n",
    "        listlower.append(i)\n",
    "print(\"upper : \" ,len(listupper), \"lower:\",len(listlower))\n",
    "    "
   ]
  },
  {
   "cell_type": "code",
   "execution_count": 63,
   "id": "803664a0-3059-4bf3-bdda-910944e8e68d",
   "metadata": {},
   "outputs": [
    {
     "name": "stdin",
     "output_type": "stream",
     "text": [
      " abcdef\n"
     ]
    },
    {
     "data": {
      "text/plain": [
       "' fedcba'"
      ]
     },
     "execution_count": 63,
     "metadata": {},
     "output_type": "execute_result"
    }
   ],
   "source": [
    "x=input()\n",
    "y=[]\n",
    "s=len(x)\n",
    "result = ' '\n",
    "while s>0:\n",
    "    result += x[s-1]\n",
    "    s -=1\n",
    "result"
   ]
  },
  {
   "cell_type": "code",
   "execution_count": 67,
   "id": "2e966baa-8e90-4ae9-8e3b-8089f527e61f",
   "metadata": {},
   "outputs": [
    {
     "name": "stdout",
     "output_type": "stream",
     "text": [
      " fedcba\n"
     ]
    }
   ],
   "source": [
    "prc= 100\n",
    "cap = 1000\n",
    "while cap < 0:\n",
    "    result=list(cap,prc,cap*0.08 * 30 / 36000, 30)\n",
    "    cap -= prc\n",
    "print(result)"
   ]
  },
  {
   "cell_type": "code",
   "execution_count": null,
   "id": "ede37446-1444-4746-be6f-2649d9b617d9",
   "metadata": {},
   "outputs": [],
   "source": []
  }
 ],
 "metadata": {
  "kernelspec": {
   "display_name": "Python 3",
   "language": "python",
   "name": "python3"
  },
  "language_info": {
   "codemirror_mode": {
    "name": "ipython",
    "version": 3
   },
   "file_extension": ".py",
   "mimetype": "text/x-python",
   "name": "python",
   "nbconvert_exporter": "python",
   "pygments_lexer": "ipython3",
   "version": "3.8.8"
  }
 },
 "nbformat": 4,
 "nbformat_minor": 5
}
