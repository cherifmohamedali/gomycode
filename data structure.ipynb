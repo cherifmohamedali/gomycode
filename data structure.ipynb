{
 "cells": [
  {
   "cell_type": "code",
   "execution_count": 5,
   "id": "b7ebb438-9f8d-4c77-b890-2da5e460e302",
   "metadata": {},
   "outputs": [
    {
     "name": "stdout",
     "output_type": "stream",
     "text": [
      "knowledge\n",
      "tool\n",
      "year\n"
     ]
    }
   ],
   "source": [
    "my_dictionary = {\"knowledge\": \"Data Science\",\"tool\": \"python\",\"year\": 2020}\n",
    "for key in my_dictionary.keys():\n",
    "     print(key)\n"
   ]
  },
  {
   "cell_type": "code",
   "execution_count": 6,
   "id": "4b7b8562-500c-4d1d-9480-3d5327df5297",
   "metadata": {},
   "outputs": [
    {
     "name": "stdout",
     "output_type": "stream",
     "text": [
      "Data Science\n",
      "python\n",
      "2020\n"
     ]
    }
   ],
   "source": [
    "for key in my_dictionary.values():\n",
    "     print(key)\n"
   ]
  },
  {
   "cell_type": "code",
   "execution_count": 7,
   "id": "f9675a78-e2fd-4f4d-a161-818b85eb5d4f",
   "metadata": {},
   "outputs": [
    {
     "name": "stdout",
     "output_type": "stream",
     "text": [
      "('knowledge', 'Data Science')\n",
      "('tool', 'python')\n",
      "('year', 2020)\n"
     ]
    }
   ],
   "source": [
    "for key in my_dictionary.items():\n",
    "     print(key)\n"
   ]
  },
  {
   "cell_type": "code",
   "execution_count": 8,
   "id": "4c540f04-ce16-465b-a77c-d822eb8940d4",
   "metadata": {},
   "outputs": [
    {
     "name": "stdout",
     "output_type": "stream",
     "text": [
      "3\n"
     ]
    }
   ],
   "source": [
    "print(len(my_dictionary))"
   ]
  },
  {
   "cell_type": "code",
   "execution_count": 9,
   "id": "0de94ab4-2c6e-4278-b375-cd2d3f815293",
   "metadata": {},
   "outputs": [],
   "source": [
    "my_dictionary[\"learn\"] = True\n"
   ]
  },
  {
   "cell_type": "code",
   "execution_count": 10,
   "id": "e728139e-2ad4-4e5b-86c4-1691a98373b7",
   "metadata": {},
   "outputs": [
    {
     "data": {
      "text/plain": [
       "{'knowledge': 'Data Science', 'tool': 'python', 'year': 2020, 'learn': True}"
      ]
     },
     "execution_count": 10,
     "metadata": {},
     "output_type": "execute_result"
    }
   ],
   "source": [
    "my_dictionary"
   ]
  },
  {
   "cell_type": "code",
   "execution_count": 11,
   "id": "238c35e0-edf9-4491-8e4b-57d05b20e097",
   "metadata": {},
   "outputs": [],
   "source": [
    "del my_dictionary"
   ]
  },
  {
   "cell_type": "code",
   "execution_count": 12,
   "id": "f37367c9-c1c2-46a0-829a-b7d578b0e8d4",
   "metadata": {},
   "outputs": [
    {
     "ename": "NameError",
     "evalue": "name 'my_dictionary' is not defined",
     "output_type": "error",
     "traceback": [
      "\u001b[1;31m---------------------------------------------------------------------------\u001b[0m",
      "\u001b[1;31mNameError\u001b[0m                                 Traceback (most recent call last)",
      "\u001b[1;32m<ipython-input-12-b22018ba9974>\u001b[0m in \u001b[0;36m<module>\u001b[1;34m\u001b[0m\n\u001b[1;32m----> 1\u001b[1;33m \u001b[0mmy_dictionary\u001b[0m\u001b[1;33m\u001b[0m\u001b[1;33m\u001b[0m\u001b[0m\n\u001b[0m",
      "\u001b[1;31mNameError\u001b[0m: name 'my_dictionary' is not defined"
     ]
    }
   ],
   "source": [
    "my_dictionary"
   ]
  },
  {
   "cell_type": "code",
   "execution_count": 13,
   "id": "33bff569-ed39-4aec-98c4-0e9e9e14baae",
   "metadata": {},
   "outputs": [],
   "source": [
    "my_dict = {'key1':123,'key2':[12,23,33],'key3':['item0','item1','item2']}"
   ]
  },
  {
   "cell_type": "code",
   "execution_count": 14,
   "id": "af0f6bca-af8b-460f-a615-703dcefeb86c",
   "metadata": {},
   "outputs": [
    {
     "data": {
      "text/plain": [
       "['item0', 'item1', 'item2']"
      ]
     },
     "execution_count": 14,
     "metadata": {},
     "output_type": "execute_result"
    }
   ],
   "source": [
    "my_dict[\"key3\"]"
   ]
  },
  {
   "cell_type": "code",
   "execution_count": 15,
   "id": "08dcf99b-7779-4d90-aac2-43c3acbd2fc2",
   "metadata": {},
   "outputs": [
    {
     "data": {
      "text/plain": [
       "'item0'"
      ]
     },
     "execution_count": 15,
     "metadata": {},
     "output_type": "execute_result"
    }
   ],
   "source": [
    "my_dict[\"key3\"][0]\n"
   ]
  },
  {
   "cell_type": "code",
   "execution_count": 18,
   "id": "c94a5c14-c0ee-4929-967f-06320f18c9de",
   "metadata": {},
   "outputs": [
    {
     "data": {
      "text/plain": [
       "'ITEM0'"
      ]
     },
     "execution_count": 18,
     "metadata": {},
     "output_type": "execute_result"
    }
   ],
   "source": [
    "my_dict[\"key3\"][0].upper()"
   ]
  },
  {
   "cell_type": "code",
   "execution_count": 19,
   "id": "f52e1b94-f62c-48b6-bb99-9b88382c85fc",
   "metadata": {},
   "outputs": [],
   "source": [
    "my_dict[\"key1\"]=my_dict[\"key1\"]-121"
   ]
  },
  {
   "cell_type": "code",
   "execution_count": 20,
   "id": "8aa22888-1fba-4e78-8b34-0841c82d4fb0",
   "metadata": {},
   "outputs": [
    {
     "data": {
      "text/plain": [
       "{'key1': 2, 'key2': [12, 23, 33], 'key3': ['item0', 'item1', 'item2']}"
      ]
     },
     "execution_count": 20,
     "metadata": {},
     "output_type": "execute_result"
    }
   ],
   "source": [
    "my_dict"
   ]
  },
  {
   "cell_type": "code",
   "execution_count": 22,
   "id": "e62dde3a-1ab7-4891-88ea-f83ccb3eb652",
   "metadata": {},
   "outputs": [],
   "source": [
    "my_dict[\"key1\"]=3"
   ]
  },
  {
   "cell_type": "code",
   "execution_count": 23,
   "id": "ce4fcf36-dbf1-448b-9908-5f62024e180d",
   "metadata": {},
   "outputs": [
    {
     "data": {
      "text/plain": [
       "{'key1': 3, 'key2': [12, 23, 33], 'key3': ['item0', 'item1', 'item2']}"
      ]
     },
     "execution_count": 23,
     "metadata": {},
     "output_type": "execute_result"
    }
   ],
   "source": [
    "my_dict"
   ]
  },
  {
   "cell_type": "code",
   "execution_count": 25,
   "id": "14a3cd96-399f-40be-8811-532a8510af25",
   "metadata": {},
   "outputs": [],
   "source": [
    "my_dict1={}"
   ]
  },
  {
   "cell_type": "code",
   "execution_count": 28,
   "id": "164b2c35-1142-4957-a834-7fe9824c04cb",
   "metadata": {},
   "outputs": [],
   "source": [
    "my_dict1[\"animal\"] = \"dog\""
   ]
  },
  {
   "cell_type": "markdown",
   "id": "541ff10f-9533-4e16-909e-48ba34c0a6d2",
   "metadata": {},
   "source": [
    "my_dict1"
   ]
  },
  {
   "cell_type": "code",
   "execution_count": 29,
   "id": "efeb1c0b-e605-4d1f-bb05-bf9dc9ccd2a5",
   "metadata": {},
   "outputs": [
    {
     "data": {
      "text/plain": [
       "{'animal': 'dog'}"
      ]
     },
     "execution_count": 29,
     "metadata": {},
     "output_type": "execute_result"
    }
   ],
   "source": [
    "my_dict1"
   ]
  },
  {
   "cell_type": "code",
   "execution_count": 33,
   "id": "7f557588-e2ce-470e-ae36-6956c6e1168e",
   "metadata": {},
   "outputs": [
    {
     "data": {
      "text/plain": [
       "'value'"
      ]
     },
     "execution_count": 33,
     "metadata": {},
     "output_type": "execute_result"
    }
   ],
   "source": [
    "d = {'key1':{'nestkey':{'subnestkey':'value'}}}\n",
    "d[\"key1\"] [\"nestkey\"] [\"subnestkey\"]"
   ]
  },
  {
   "cell_type": "code",
   "execution_count": 34,
   "id": "b9946768-7e1b-4868-a251-43a6034672a9",
   "metadata": {},
   "outputs": [
    {
     "data": {
      "text/plain": [
       "dict_values([{'nestkey': {'subnestkey': 'value'}}])"
      ]
     },
     "execution_count": 34,
     "metadata": {},
     "output_type": "execute_result"
    }
   ],
   "source": [
    "d.values()"
   ]
  },
  {
   "cell_type": "code",
   "execution_count": 35,
   "id": "68ed1a0d-52f2-487b-80b9-0bad8e9c5a0a",
   "metadata": {},
   "outputs": [
    {
     "data": {
      "text/plain": [
       "dict_keys(['key1'])"
      ]
     },
     "execution_count": 35,
     "metadata": {},
     "output_type": "execute_result"
    }
   ],
   "source": [
    "d.keys()"
   ]
  },
  {
   "cell_type": "code",
   "execution_count": 37,
   "id": "ffb9f843-5996-4eba-bac3-ba8f9ca2fbc3",
   "metadata": {},
   "outputs": [
    {
     "data": {
      "text/plain": [
       "dict_items([('key1', {'nestkey': {'subnestkey': 'value'}})])"
      ]
     },
     "execution_count": 37,
     "metadata": {},
     "output_type": "execute_result"
    }
   ],
   "source": [
    "d.items()"
   ]
  },
  {
   "cell_type": "code",
   "execution_count": 38,
   "id": "686de91c-cb97-4259-9a44-3959555fc588",
   "metadata": {},
   "outputs": [],
   "source": [
    "my_set = {\"python\", \"java\", \"R\"}"
   ]
  },
  {
   "cell_type": "code",
   "execution_count": 39,
   "id": "88fb4f52-b4b9-4f3c-b9e2-1cb238ff587f",
   "metadata": {},
   "outputs": [],
   "source": [
    "my_set.add(\"scala\")    #add \"scala\" to the set"
   ]
  },
  {
   "cell_type": "code",
   "execution_count": 40,
   "id": "8fee517a-3474-4192-855e-8716a0f21104",
   "metadata": {},
   "outputs": [
    {
     "data": {
      "text/plain": [
       "{'R', 'java', 'python', 'scala'}"
      ]
     },
     "execution_count": 40,
     "metadata": {},
     "output_type": "execute_result"
    }
   ],
   "source": [
    "my_set"
   ]
  },
  {
   "cell_type": "code",
   "execution_count": 41,
   "id": "f714cc49-35de-4557-aa3d-3d3bb552fb92",
   "metadata": {},
   "outputs": [],
   "source": [
    "x=set()"
   ]
  },
  {
   "cell_type": "code",
   "execution_count": 42,
   "id": "6830cc6f-0155-41f8-8dd7-bc4d2536f1e1",
   "metadata": {},
   "outputs": [
    {
     "name": "stdout",
     "output_type": "stream",
     "text": [
      "<class 'set'>\n"
     ]
    }
   ],
   "source": [
    "print(type(x))"
   ]
  },
  {
   "cell_type": "code",
   "execution_count": 43,
   "id": "27e60107-8fee-48b0-bdf5-a2dad08972d9",
   "metadata": {},
   "outputs": [
    {
     "data": {
      "text/plain": [
       "{1}"
      ]
     },
     "execution_count": 43,
     "metadata": {},
     "output_type": "execute_result"
    }
   ],
   "source": [
    "x.add(1)\n",
    "x"
   ]
  },
  {
   "cell_type": "code",
   "execution_count": 44,
   "id": "e2654b38-5bb5-4833-98b8-aa7b2e37de5a",
   "metadata": {},
   "outputs": [],
   "source": [
    "x.add(1)"
   ]
  },
  {
   "cell_type": "code",
   "execution_count": 45,
   "id": "a733e513-a06c-425e-b956-2da56574c7e9",
   "metadata": {},
   "outputs": [
    {
     "data": {
      "text/plain": [
       "{1}"
      ]
     },
     "execution_count": 45,
     "metadata": {},
     "output_type": "execute_result"
    }
   ],
   "source": [
    "x"
   ]
  },
  {
   "cell_type": "code",
   "execution_count": 46,
   "id": "2837d160-9855-4059-94c7-88662b9c35a2",
   "metadata": {},
   "outputs": [],
   "source": [
    "s=set('abc')"
   ]
  },
  {
   "cell_type": "code",
   "execution_count": 47,
   "id": "49a23e17-e542-4e90-85c2-e1b9137db8e6",
   "metadata": {},
   "outputs": [
    {
     "data": {
      "text/plain": [
       "{'a', 'b', 'c'}"
      ]
     },
     "execution_count": 47,
     "metadata": {},
     "output_type": "execute_result"
    }
   ],
   "source": [
    "s"
   ]
  },
  {
   "cell_type": "code",
   "execution_count": 48,
   "id": "00f16147-f2df-451d-9382-de985551f88b",
   "metadata": {},
   "outputs": [],
   "source": [
    "set1 = {\"abc\"}"
   ]
  },
  {
   "cell_type": "code",
   "execution_count": 49,
   "id": "c03d9307-3ad7-452b-9687-d72db73c3835",
   "metadata": {},
   "outputs": [
    {
     "data": {
      "text/plain": [
       "{'abc'}"
      ]
     },
     "execution_count": 49,
     "metadata": {},
     "output_type": "execute_result"
    }
   ],
   "source": [
    "set1"
   ]
  },
  {
   "cell_type": "code",
   "execution_count": 50,
   "id": "3a9f8dbf-4d6a-4bb9-97ee-af365e66e707",
   "metadata": {},
   "outputs": [
    {
     "name": "stdout",
     "output_type": "stream",
     "text": [
      "('a', 'b', 'c', 1, 2, 3)\n"
     ]
    }
   ],
   "source": [
    "tuple1 = (\"a\", \"b\" , \"c\")\n",
    "tuple2 = (1, 2, 3)\n",
    "tuple3 = tuple1 + tuple2     #join the two tuples by + operator\n",
    "print(tuple3)     #('a', 'b', 'c', 1, 2, 3)"
   ]
  },
  {
   "cell_type": "code",
   "execution_count": 51,
   "id": "aad7e532-68d7-4229-a8c3-76ee9e0ecb65",
   "metadata": {},
   "outputs": [
    {
     "data": {
      "text/plain": [
       "3"
      ]
     },
     "execution_count": 51,
     "metadata": {},
     "output_type": "execute_result"
    }
   ],
   "source": [
    "tuple=(1,2,3)\n",
    "len(tuple)"
   ]
  },
  {
   "cell_type": "code",
   "execution_count": 52,
   "id": "7231b6db-404b-441e-a170-c0b970272731",
   "metadata": {},
   "outputs": [
    {
     "data": {
      "text/plain": [
       "1"
      ]
     },
     "execution_count": 52,
     "metadata": {},
     "output_type": "execute_result"
    }
   ],
   "source": [
    "tuple.index(2)"
   ]
  },
  {
   "cell_type": "code",
   "execution_count": 53,
   "id": "27bc9e29-4cf1-49e4-bff8-ea8e41a81c23",
   "metadata": {},
   "outputs": [
    {
     "data": {
      "text/plain": [
       "1"
      ]
     },
     "execution_count": 53,
     "metadata": {},
     "output_type": "execute_result"
    }
   ],
   "source": [
    "tuple.count(2)"
   ]
  },
  {
   "cell_type": "code",
   "execution_count": null,
   "id": "aad28d17-1c2c-4c4f-abc6-6de15ec53f95",
   "metadata": {},
   "outputs": [],
   "source": []
  }
 ],
 "metadata": {
  "kernelspec": {
   "display_name": "Python 3",
   "language": "python",
   "name": "python3"
  },
  "language_info": {
   "codemirror_mode": {
    "name": "ipython",
    "version": 3
   },
   "file_extension": ".py",
   "mimetype": "text/x-python",
   "name": "python",
   "nbconvert_exporter": "python",
   "pygments_lexer": "ipython3",
   "version": "3.8.8"
  }
 },
 "nbformat": 4,
 "nbformat_minor": 5
}
