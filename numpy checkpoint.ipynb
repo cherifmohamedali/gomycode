{
 "cells": [
  {
   "cell_type": "code",
   "execution_count": 2,
   "id": "44ccdecb-51f0-49f9-8e11-a5adb710428b",
   "metadata": {},
   "outputs": [
    {
     "data": {
      "text/plain": [
       "[[0, 1, 2], [3, 4, 5], [6, 7, 8]]"
      ]
     },
     "execution_count": 2,
     "metadata": {},
     "output_type": "execute_result"
    }
   ],
   "source": [
    "import numpy as np\n",
    "a = np.array([[0,1,2],[3,4,5],[6,7,8]])\n",
    "L=a.tolist()\n",
    "L"
   ]
  },
  {
   "cell_type": "code",
   "execution_count": 9,
   "id": "cad511dd-93bf-4c42-87ba-8e77b4515cb7",
   "metadata": {},
   "outputs": [
    {
     "data": {
      "text/plain": [
       "[9, 0, 0, 0, 1, 0, 0, 5]"
      ]
     },
     "execution_count": 9,
     "metadata": {},
     "output_type": "execute_result"
    }
   ],
   "source": [
    "a =np.array([9,0,0,0,1,0,0,5])\n",
    "L=a.tolist()\n",
    "L"
   ]
  },
  {
   "cell_type": "code",
   "execution_count": 21,
   "id": "6045aace-a00a-4be4-b03f-1d1b3658b9cc",
   "metadata": {},
   "outputs": [
    {
     "name": "stdout",
     "output_type": "stream",
     "text": [
      "(8,)\n",
      "8\n"
     ]
    },
    {
     "data": {
      "text/plain": [
       "[9, 0, 0, 0, 1, 0, 0, 5]"
      ]
     },
     "execution_count": 21,
     "metadata": {},
     "output_type": "execute_result"
    }
   ],
   "source": [
    "L=[]\n",
    "x=a.shape\n",
    "print(x)\n",
    "y=x[0]\n",
    "print(y)\n",
    "\n",
    "for i in range(y):\n",
    "    L.append(a[i])\n",
    "L"
   ]
  },
  {
   "cell_type": "code",
   "execution_count": 23,
   "id": "cbca0436-1e43-4e4a-b110-fd3193590de4",
   "metadata": {},
   "outputs": [
    {
     "name": "stdout",
     "output_type": "stream",
     "text": [
      "(3, 3)\n",
      "3\n"
     ]
    },
    {
     "data": {
      "text/plain": [
       "[array([0, 1, 2]), array([3, 4, 5]), array([6, 7, 8])]"
      ]
     },
     "execution_count": 23,
     "metadata": {},
     "output_type": "execute_result"
    }
   ],
   "source": [
    "a = np.array([[0,1,2],[3,4,5],[6,7,8]])\n",
    "L=[]\n",
    "x=a.shape\n",
    "print(x)\n",
    "y=x[0]\n",
    "print(y)\n",
    "for i in range(y):\n",
    "    L.append(a[i,:])\n",
    "L"
   ]
  },
  {
   "cell_type": "code",
   "execution_count": 24,
   "id": "e60ab5d5-75de-4519-b9a0-dfd84421d716",
   "metadata": {},
   "outputs": [],
   "source": [
    "#question 2\n"
   ]
  },
  {
   "cell_type": "code",
   "execution_count": 32,
   "id": "7e46125f-6ce9-4f39-b08e-f1b154a88bc3",
   "metadata": {},
   "outputs": [
    {
     "data": {
      "text/plain": [
       "array([[0, 1, 2],\n",
       "       [3, 4, 5],\n",
       "       [6, 7, 9]])"
      ]
     },
     "execution_count": 32,
     "metadata": {},
     "output_type": "execute_result"
    }
   ],
   "source": [
    "a = np.array([[0,1,2],[3,4,5],[6,7,9]])\n",
    "a"
   ]
  },
  {
   "cell_type": "code",
   "execution_count": 33,
   "id": "c2472d82-c01e-4472-8564-e298611448ad",
   "metadata": {},
   "outputs": [
    {
     "data": {
      "text/plain": [
       "13"
      ]
     },
     "execution_count": 33,
     "metadata": {},
     "output_type": "execute_result"
    }
   ],
   "source": [
    "sum=0\n",
    "x=a.shape\n",
    "raw1=x[0]\n",
    "col1=x[1]\n",
    "for i in range (raw1):\n",
    "    sum+= a[i,i]\n",
    "sum"
   ]
  },
  {
   "cell_type": "code",
   "execution_count": 34,
   "id": "424baa20-344e-433f-b4f6-0a74c8db71bd",
   "metadata": {},
   "outputs": [
    {
     "data": {
      "text/plain": [
       "13"
      ]
     },
     "execution_count": 34,
     "metadata": {},
     "output_type": "execute_result"
    }
   ],
   "source": [
    "y=np.trace(a)\n",
    "y"
   ]
  },
  {
   "cell_type": "code",
   "execution_count": 50,
   "id": "3b53b8a1-ac83-4141-948b-995b8eab0632",
   "metadata": {},
   "outputs": [
    {
     "name": "stdout",
     "output_type": "stream",
     "text": [
      "6\n",
      "2\n",
      "10\n",
      "6\n"
     ]
    }
   ],
   "source": [
    "y1=np.trace(a,1,0)\n",
    "print(y1)\n",
    "y2=np.trace(a,2,0)\n",
    "print(y2)\n",
    "y3=np.trace(a,-1,0)\n",
    "print(y3)\n",
    "y4=np.trace(a,-2,0)\n",
    "print(y4)"
   ]
  },
  {
   "cell_type": "code",
   "execution_count": 52,
   "id": "d26b08ac-4c9a-415b-8dce-3697e2020212",
   "metadata": {},
   "outputs": [
    {
     "data": {
      "text/plain": [
       "array([[ 0,  1,  2],\n",
       "       [ 3,  4,  5],\n",
       "       [ 6,  7,  9],\n",
       "       [10, 11, 12]])"
      ]
     },
     "execution_count": 52,
     "metadata": {},
     "output_type": "execute_result"
    }
   ],
   "source": [
    "a = np.array([[0,1,2],[3,4,5],[6,7,9],[10,11,12]])\n",
    "a\n"
   ]
  },
  {
   "cell_type": "code",
   "execution_count": 54,
   "id": "9877c72e-8e35-4c32-9e3c-2bfa90d12ff5",
   "metadata": {},
   "outputs": [
    {
     "name": "stdout",
     "output_type": "stream",
     "text": [
      "13\n",
      "6\n",
      "2\n",
      "22\n",
      "17\n",
      "10\n"
     ]
    }
   ],
   "source": [
    "y=np.trace(a)\n",
    "print(y)\n",
    "y1=np.trace(a,1,0)\n",
    "print(y1)\n",
    "y2=np.trace(a,2,0)\n",
    "print(y2)\n",
    "y3=np.trace(a,-1,0)\n",
    "print(y3)\n",
    "y4=np.trace(a,-2,0)\n",
    "print(y4)\n",
    "y5=np.trace(a,-3,0)\n",
    "print(y5)"
   ]
  },
  {
   "cell_type": "code",
   "execution_count": 56,
   "id": "8b4330f6-e8ad-482b-a30c-7d416cf86c0b",
   "metadata": {},
   "outputs": [],
   "source": [
    "#question 3"
   ]
  },
  {
   "cell_type": "code",
   "execution_count": 60,
   "id": "0456b195-2fdb-45a2-bdc1-4cea15ffb9b4",
   "metadata": {},
   "outputs": [
    {
     "name": "stdout",
     "output_type": "stream",
     "text": [
      "[3 5]\n"
     ]
    }
   ],
   "source": [
    "b =np.array([[1,2],[3,5]]) \n",
    "\n",
    "print(b[b>2])"
   ]
  },
  {
   "cell_type": "code",
   "execution_count": 61,
   "id": "4a1b61cf-413d-4501-ae1d-51986c18432a",
   "metadata": {},
   "outputs": [],
   "source": [
    "#question4"
   ]
  },
  {
   "cell_type": "code",
   "execution_count": 6,
   "id": "2b09bd9c-848a-48a5-9c4f-e6683fe5591b",
   "metadata": {},
   "outputs": [
    {
     "name": "stdout",
     "output_type": "stream",
     "text": [
      "[[ 6  8]\n",
      " [10 12]\n",
      " [ 2  4]]\n"
     ]
    },
    {
     "data": {
      "text/plain": [
       "array([[ 6,  8],\n",
       "       [10, 12],\n",
       "       [ 2,  4]])"
      ]
     },
     "execution_count": 6,
     "metadata": {},
     "output_type": "execute_result"
    }
   ],
   "source": [
    "x=np.array([[1,2],[3,4],[1,2]])\n",
    "y=np.array([[5,6],[7,8],[1,2]])\n",
    "A=x+y\n",
    "print(A)\n",
    "\n",
    "b=np.add(x, y)\n",
    "b"
   ]
  },
  {
   "cell_type": "code",
   "execution_count": 73,
   "id": "bb5025e9-a45f-43af-a301-b8ef166951d2",
   "metadata": {},
   "outputs": [
    {
     "name": "stdout",
     "output_type": "stream",
     "text": [
      "[[9 4 9 6]\n",
      " [2 3 5 4]]\n"
     ]
    }
   ],
   "source": [
    "array=np.random.randint(2, 10, size=(2,4))\n",
    "print(array)"
   ]
  },
  {
   "cell_type": "code",
   "execution_count": 34,
   "id": "bb586fbc-9c7d-41cf-a256-ed0ba05ddd79",
   "metadata": {},
   "outputs": [
    {
     "name": "stdout",
     "output_type": "stream",
     "text": [
      "(4, 3)\n",
      "[[5 4 8]\n",
      " [2 9 9]\n",
      " [2 7 9]\n",
      " [9 7 4]]\n"
     ]
    }
   ],
   "source": [
    "\n",
    "f=x.shape\n",
    "print(f)\n",
    "y=f[0]\n",
    "z=f[1]\n",
    "c=np.random.randint(2, 10, size=(y,z))\n",
    "\n",
    "\n",
    "print(c)\n"
   ]
  },
  {
   "cell_type": "code",
   "execution_count": 46,
   "id": "cae1d8e3-588f-45a2-a066-1a2d20200f0a",
   "metadata": {},
   "outputs": [
    {
     "data": {
      "text/plain": [
       "array([[11,  8, 10],\n",
       "       [ 7,  8,  5],\n",
       "       [ 9, 10,  5],\n",
       "       [ 5, 15, 28]])"
      ]
     },
     "execution_count": 46,
     "metadata": {},
     "output_type": "execute_result"
    }
   ],
   "source": [
    "#question 5\n",
    "x = np.random.randint(5, 30, size=(4,3))\n",
    "x"
   ]
  },
  {
   "cell_type": "code",
   "execution_count": 47,
   "id": "61b39bf3-7edb-4eb9-a5bf-d78a1894562d",
   "metadata": {},
   "outputs": [
    {
     "name": "stdout",
     "output_type": "stream",
     "text": [
      "(4, 3)\n",
      "the mean of row 0  = 9.666666666666666\n",
      "the mean of row 1  = 6.666666666666667\n",
      "the mean of row 2  = 8.0\n",
      "the mean of row 3  = 16.0\n"
     ]
    }
   ],
   "source": [
    "f=x.shape\n",
    "print(f)\n",
    "n=f[0]\n",
    "for i in range(n):\n",
    "    y = np.mean(x[i])\n",
    "    print(\"the mean of row\",i,\" =\", y)"
   ]
  },
  {
   "cell_type": "code",
   "execution_count": null,
   "id": "81528588-0d85-4043-ac42-919fd2550430",
   "metadata": {},
   "outputs": [],
   "source": []
  }
 ],
 "metadata": {
  "kernelspec": {
   "display_name": "Python 3",
   "language": "python",
   "name": "python3"
  },
  "language_info": {
   "codemirror_mode": {
    "name": "ipython",
    "version": 3
   },
   "file_extension": ".py",
   "mimetype": "text/x-python",
   "name": "python",
   "nbconvert_exporter": "python",
   "pygments_lexer": "ipython3",
   "version": "3.8.8"
  }
 },
 "nbformat": 4,
 "nbformat_minor": 5
}
