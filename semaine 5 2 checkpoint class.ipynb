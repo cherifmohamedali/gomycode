{
 "cells": [
  {
   "cell_type": "code",
   "execution_count": 23,
   "id": "d2144061-667a-4c0d-9b9b-049081e419b2",
   "metadata": {},
   "outputs": [
    {
     "name": "stdout",
     "output_type": "stream",
     "text": [
      "(1, 2, 3)\n"
     ]
    }
   ],
   "source": [
    "class Point3D:\n",
    "    def __init__(self,x,y,z):\n",
    "        self.x = x\n",
    "        self.y = y\n",
    "        self.z = z\n",
    "    \n",
    "    def ret(self):    \n",
    "        return \"(%d, %d, %d)\" % (self.x, self.y, self.z) \n",
    "\n",
    "my_point=Point3D(1,2,3)\n",
    "print(my_point.ret())"
   ]
  },
  {
   "cell_type": "code",
   "execution_count": 14,
   "id": "28ae47c0-88f8-4120-ba65-bb467bb877d7",
   "metadata": {},
   "outputs": [
    {
     "name": "stdout",
     "output_type": "stream",
     "text": [
      "1 2 3\n"
     ]
    }
   ],
   "source": [
    "class Point3D:\n",
    "    def __init__(self,x,y,z):\n",
    "        print (x,y,z)\n",
    "my_point=Point3D(1,2,3)"
   ]
  },
  {
   "cell_type": "code",
   "execution_count": 11,
   "id": "f247904c-f7fd-49a0-a9a9-9072dc2b77b6",
   "metadata": {},
   "outputs": [
    {
     "name": "stdout",
     "output_type": "stream",
     "text": [
      "area      =  12\n",
      "perimeter =  14\n"
     ]
    }
   ],
   "source": [
    "class rectangle:\n",
    "    def __init__(self, lenght, width):\n",
    "        self.l = lenght\n",
    "        self.w = width\n",
    "    def area(self):\n",
    "        return self.l*self.w\n",
    "    def perimeter(self):\n",
    "        return (self.l+self.w)*2\n",
    "my_rectangle= rectangle(4,3)\n",
    "print(\"area      = \" ,my_rectangle.area())\n",
    "print(\"perimeter = \" ,my_rectangle.perimeter())"
   ]
  },
  {
   "cell_type": "code",
   "execution_count": 7,
   "id": "0730d769-9502-4d47-88ba-e532b1206ba5",
   "metadata": {},
   "outputs": [
    {
     "name": "stdout",
     "output_type": "stream",
     "text": [
      "area      =  201.06\n",
      "perimeter =  50.27\n",
      "input center coordinate\n"
     ]
    },
    {
     "name": "stdin",
     "output_type": "stream",
     "text": [
      "X 1\n",
      "y 2\n"
     ]
    },
    {
     "name": "stdout",
     "output_type": "stream",
     "text": [
      "input Point coordinate\n"
     ]
    },
    {
     "name": "stdin",
     "output_type": "stream",
     "text": [
      "X 5\n",
      "y 4\n"
     ]
    },
    {
     "name": "stdout",
     "output_type": "stream",
     "text": [
      "This Point is inside\n"
     ]
    }
   ],
   "source": [
    "from math import pi\n",
    "class point:\n",
    "    def __init__(self,x,y):\n",
    "        self.x = x\n",
    "        self.y = y\n",
    "\n",
    "class Circle:\n",
    "    def __init__(self, radius ):\n",
    "        self.r = radius\n",
    "    def area(self):\n",
    "        return pi*(self.r**2)\n",
    "    def perimeter(self):\n",
    "        return pi * self.r *2\n",
    "    \n",
    "\n",
    "my_circle= Circle(8)\n",
    "circle_area=round(my_circle.area(),2)\n",
    "circle_perim=round(my_circle.perimeter(),2)\n",
    "print(\"area      = \" ,circle_area)\n",
    "print(\"perimeter = \" ,circle_perim)\n",
    "print(\"input center coordinate\")\n",
    "cx=int(input(\"X\"))\n",
    "cy=int(input(\"y\"))\n",
    "centre=point(cx,cy)\n",
    "print(\"input Point coordinate\")\n",
    "ax=int(input(\"X\"))\n",
    "ay=int(input(\"y\"))\n",
    "A=point(ax,ay)\n",
    "if ((A.x - centre.x)**2) + ((A.y - centre.y)** 2) < my_circle.r **2 :\n",
    "    print (\"This Point is inside circle\")\n",
    "else:\n",
    "    print (\"This Point is outside circle\")\n"
   ]
  },
  {
   "cell_type": "code",
   "execution_count": 13,
   "id": "c5224394-a9ff-4e56-b994-b4d7be526eaf",
   "metadata": {},
   "outputs": [
    {
     "name": "stdout",
     "output_type": "stream",
     "text": [
      "input radius circle\n"
     ]
    },
    {
     "name": "stdin",
     "output_type": "stream",
     "text": [
      "r= 2\n"
     ]
    },
    {
     "name": "stdout",
     "output_type": "stream",
     "text": [
      "input center coordinate\n"
     ]
    },
    {
     "name": "stdin",
     "output_type": "stream",
     "text": [
      "X= 1\n",
      "y= 1\n"
     ]
    },
    {
     "name": "stdout",
     "output_type": "stream",
     "text": [
      "input Point coordinate\n"
     ]
    },
    {
     "name": "stdin",
     "output_type": "stream",
     "text": [
      "X= 6\n",
      "y= 6\n"
     ]
    },
    {
     "name": "stdout",
     "output_type": "stream",
     "text": [
      "area      =  12.57\n",
      "perimeter =  12.57\n",
      "This Point is outside circle\n"
     ]
    }
   ],
   "source": [
    "from math import pi\n",
    "\n",
    "class Circle:\n",
    "    \n",
    "    def __init__(self, radius,a,b,x,y ):\n",
    "        self.r = radius\n",
    "        self.a = a\n",
    "        self.b = b\n",
    "        self.x = x\n",
    "        self.y = y\n",
    "    def area(self):\n",
    "        return pi*(self.r**2)\n",
    "    def perimeter(self):\n",
    "        return pi * self.r *2\n",
    "    def isInside(self):\n",
    "        if ((self.x - self.a)**2) + ((self.y - self.b)** 2) < self.r **2 :\n",
    "            return True\n",
    "        else:\n",
    "            return False\n",
    "\n",
    "print(\"input radius circle\")\n",
    "cr=int(input(\"r=\"))\n",
    "print(\"input center coordinate\")\n",
    "cx=int(input(\"X=\"))\n",
    "cy=int(input(\"y=\"))\n",
    "print(\"input Point coordinate\")\n",
    "ax=int(input(\"X=\"))\n",
    "ay=int(input(\"y=\"))\n",
    "\n",
    "my_circle= Circle(cr,cx,cy,ax,ay)\n",
    "circle_area=round(my_circle.area(),2)\n",
    "circle_perim=round(my_circle.perimeter(),2)\n",
    "print(\"area      = \" ,circle_area)\n",
    "print(\"perimeter = \" ,circle_perim)\n",
    "b=my_circle.isInside()\n",
    "if b:\n",
    "    print (\"This Point is inside circle\")\n",
    "else:\n",
    "    print (\"This Point is outside circle\")\n"
   ]
  },
  {
   "cell_type": "code",
   "execution_count": null,
   "id": "177f0bd8-5f39-4c51-b29a-37b3782da563",
   "metadata": {},
   "outputs": [
    {
     "name": "stdout",
     "output_type": "stream",
     "text": [
      "600\n",
      "-400\n",
      "********************************\n",
      "operation number 1\n"
     ]
    },
    {
     "name": "stdin",
     "output_type": "stream",
     "text": [
      "Choice D for Deposit oR W for Withdraw  a\n"
     ]
    },
    {
     "name": "stdout",
     "output_type": "stream",
     "text": [
      "a\n"
     ]
    },
    {
     "name": "stdin",
     "output_type": "stream",
     "text": [
      "Choice D for Deposit oR W for Withdraw  D\n"
     ]
    },
    {
     "name": "stdout",
     "output_type": "stream",
     "text": [
      "D\n"
     ]
    },
    {
     "name": "stdin",
     "output_type": "stream",
     "text": [
      "Enter Deposit amount 100\n"
     ]
    },
    {
     "name": "stdout",
     "output_type": "stream",
     "text": [
      "your balance = 700\n",
      "operation number 2\n"
     ]
    },
    {
     "name": "stdin",
     "output_type": "stream",
     "text": [
      "Choice D for Deposit oR W for Withdraw  W\n"
     ]
    },
    {
     "name": "stdout",
     "output_type": "stream",
     "text": [
      "W\n"
     ]
    },
    {
     "name": "stdin",
     "output_type": "stream",
     "text": [
      "Enter withdraw amount 200\n"
     ]
    },
    {
     "name": "stdout",
     "output_type": "stream",
     "text": [
      "your balance = 500\n",
      "operation number 3\n"
     ]
    },
    {
     "name": "stdin",
     "output_type": "stream",
     "text": [
      "Choice D for Deposit oR W for Withdraw  s\n"
     ]
    },
    {
     "name": "stdout",
     "output_type": "stream",
     "text": [
      "s\n"
     ]
    },
    {
     "name": "stdin",
     "output_type": "stream",
     "text": [
      "Choice D for Deposit oR W for Withdraw  s\n"
     ]
    },
    {
     "name": "stdout",
     "output_type": "stream",
     "text": [
      "s\n"
     ]
    },
    {
     "name": "stdin",
     "output_type": "stream",
     "text": [
      "Choice D for Deposit oR W for Withdraw  s\n"
     ]
    },
    {
     "name": "stdout",
     "output_type": "stream",
     "text": [
      "s\n"
     ]
    }
   ],
   "source": [
    "class bank:\n",
    "    def __init__(self,balance):\n",
    "        self.balance=balance\n",
    "    def deposit(self,dep):\n",
    "        self.balance += dep\n",
    "    def withdraw (self,draw):\n",
    "        self.balance -= draw\n",
    "bt=bank(500)\n",
    "bt.deposit(100)\n",
    "print(bt.balance)\n",
    "bt.withdraw(1000)\n",
    "print(bt.balance)\n",
    "print(\"********************************\")\n",
    "bt=bank(600)\n",
    "f=' '\n",
    "for i in range (1,5):\n",
    "    print(\"operation number\",i)\n",
    "    while f != \"D\" and f != \"W\":\n",
    "        f=input(\"Choice D for Deposit oR W for Withdraw \")\n",
    "    if f == \"D\":\n",
    "        depo=int(input(\"Enter Deposit amount\"))\n",
    "        bt.deposit(depo)\n",
    "        print(\"your balance =\" ,bt.balance)\n",
    "    else:\n",
    "        withd=int(input(\"Enter withdraw amount\"))\n",
    "        bt.withdraw(withd)\n",
    "        print(\"your balance =\" ,bt.balance)\n",
    "    f=' '"
   ]
  },
  {
   "cell_type": "code",
   "execution_count": null,
   "id": "486ae2b4-0d61-4ab5-9057-a4129fb3918d",
   "metadata": {},
   "outputs": [],
   "source": []
  },
  {
   "cell_type": "code",
   "execution_count": null,
   "id": "2886d998-95d8-4d8a-a45e-d196484a6078",
   "metadata": {},
   "outputs": [],
   "source": []
  }
 ],
 "metadata": {
  "kernelspec": {
   "display_name": "Python 3",
   "language": "python",
   "name": "python3"
  },
  "language_info": {
   "codemirror_mode": {
    "name": "ipython",
    "version": 3
   },
   "file_extension": ".py",
   "mimetype": "text/x-python",
   "name": "python",
   "nbconvert_exporter": "python",
   "pygments_lexer": "ipython3",
   "version": "3.8.8"
  }
 },
 "nbformat": 4,
 "nbformat_minor": 5
}
