{
 "cells": [
  {
   "cell_type": "code",
   "execution_count": null,
   "id": "266321c0-dbc9-475f-9b2f-290ac62c17ac",
   "metadata": {},
   "outputs": [],
   "source": [
    "import time\n",
    "from time import strftime, gmtime\n",
    "def countdown(t):\n",
    "    while t >= 0:\n",
    "        d=divmod(t,60)\n",
    "        print(d(0),\":\",d(1),end = \"\\r\" )\n",
    "        time.sleep(1)\n",
    "        t-=1\n",
    "    return\n",
    "t=int(input(\"countdown seconds\"))\n",
    "countdown(t)\n",
    "print(\"Fire in the hole\")\n",
    "strftime(\"%a, %d %b %Y %H:%M:%S +0000\", gmtime())\n"
   ]
  },
  {
   "cell_type": "code",
   "execution_count": 27,
   "id": "f3491994-a5c4-427a-b44e-693229d82b9d",
   "metadata": {},
   "outputs": [
    {
     "name": "stdin",
     "output_type": "stream",
     "text": [
      "Input number of seconds to countdown:  80\n"
     ]
    },
    {
     "name": "stdout",
     "output_type": "stream",
     "text": [
      "Fire in the hole\n"
     ]
    }
   ],
   "source": [
    "def countdown(t):\n",
    "    while t>0:\n",
    "        m, s = divmod(t, 60)\n",
    "        min_sec_format = '{:02d}:{:02d}'.format(m, s)\n",
    "        print(min_sec_format,end='\\r')\n",
    "\n",
    "        time.sleep(1)\n",
    "        t-= 1\n",
    "\n",
    "    print('Fire in the hole')\n",
    "inp = int(input('Input number of seconds to countdown: '))\n",
    "countdown(inp)"
   ]
  },
  {
   "cell_type": "code",
   "execution_count": 25,
   "id": "0f611aff-cdf2-415b-8494-b54d1c779111",
   "metadata": {},
   "outputs": [
    {
     "name": "stdout",
     "output_type": "stream",
     "text": [
      "time.struct_time(tm_year=2021, tm_mon=8, tm_mday=7, tm_hour=10, tm_min=41, tm_sec=7, tm_wday=5, tm_yday=219, tm_isdst=0)\n"
     ]
    }
   ],
   "source": [
    "x=gmtime()\n",
    "print(x)"
   ]
  },
  {
   "cell_type": "code",
   "execution_count": null,
   "id": "c7cb3ae6-be7a-48d0-ab58-860d4602536f",
   "metadata": {},
   "outputs": [],
   "source": []
  }
 ],
 "metadata": {
  "kernelspec": {
   "display_name": "Python 3",
   "language": "python",
   "name": "python3"
  },
  "language_info": {
   "codemirror_mode": {
    "name": "ipython",
    "version": 3
   },
   "file_extension": ".py",
   "mimetype": "text/x-python",
   "name": "python",
   "nbconvert_exporter": "python",
   "pygments_lexer": "ipython3",
   "version": "3.8.8"
  }
 },
 "nbformat": 4,
 "nbformat_minor": 5
}
